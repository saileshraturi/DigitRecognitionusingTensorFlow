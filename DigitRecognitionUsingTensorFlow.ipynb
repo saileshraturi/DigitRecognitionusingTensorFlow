{
  "nbformat": 4,
  "nbformat_minor": 0,
  "metadata": {
    "colab": {
      "name": "DigitRecognitionUsingTensorFlow.ipynb",
      "provenance": []
    },
    "kernelspec": {
      "name": "python3",
      "display_name": "Python 3"
    },
    "accelerator": "GPU"
  },
  "cells": [
    {
      "cell_type": "code",
      "metadata": {
        "id": "onWdZrpIj5sd",
        "colab_type": "code",
        "colab": {}
      },
      "source": [
        "import tensorflow as tf\n",
        "import pandas as pd\n",
        "import matplotlib.pyplot as plt"
      ],
      "execution_count": 0,
      "outputs": []
    },
    {
      "cell_type": "code",
      "metadata": {
        "id": "5alCi47FkuTv",
        "colab_type": "code",
        "colab": {}
      },
      "source": [
        "mnist = tf.keras.datasets.mnist"
      ],
      "execution_count": 0,
      "outputs": []
    },
    {
      "cell_type": "code",
      "metadata": {
        "id": "kewI06WnlAJp",
        "colab_type": "code",
        "colab": {}
      },
      "source": [
        "(x_train,y_train),(x_test,y_test) = mnist.load_data()"
      ],
      "execution_count": 0,
      "outputs": []
    },
    {
      "cell_type": "code",
      "metadata": {
        "id": "Ge7KdhqBlMbT",
        "colab_type": "code",
        "colab": {}
      },
      "source": [
        "x_train,x_test = x_train/255.0,x_test/255.0"
      ],
      "execution_count": 0,
      "outputs": []
    },
    {
      "cell_type": "code",
      "metadata": {
        "id": "aHiY_eAkmp3m",
        "colab_type": "code",
        "colab": {
          "base_uri": "https://localhost:8080/",
          "height": 85
        },
        "outputId": "d8bceef9-4ec6-44f9-e1f5-f0a0fcd23fd3"
      },
      "source": [
        "print(\"X_train.shape:\",x_train.shape)\n",
        "print(\"Y_train.shape:\",y_train.shape)\n",
        "print(x_test.shape)\n",
        "print(y_test.shape)"
      ],
      "execution_count": 40,
      "outputs": [
        {
          "output_type": "stream",
          "text": [
            "X_train.shape: (60000, 28, 28)\n",
            "Y_train.shape: (60000,)\n",
            "(10000, 28, 28)\n",
            "(10000,)\n"
          ],
          "name": "stdout"
        }
      ]
    },
    {
      "cell_type": "code",
      "metadata": {
        "id": "qSTg_SUtmxXe",
        "colab_type": "code",
        "colab": {}
      },
      "source": [
        "#Build the Model( NN with two layers (Relu and softmax))\n",
        "\n",
        "model = tf.keras.models.Sequential([\n",
        "                                    tf.keras.layers.Flatten(input_shape =(28,28)),#convert the input into 2 dimensional array = N(60000) * 784\n",
        "                                    tf.keras.layers.Dense(128,activation='relu'),#hyperparamenter 128 experimental\n",
        "                                    tf.keras.layers.Dropout(0.2),# Drop the neurons by 20 percent in the layer randomly\n",
        "                                    tf.keras.layers.Dense(10,activation='softmax')# total output classes are 10 and softmax function is for multiclass classification\n",
        "\n",
        "\n",
        "])"
      ],
      "execution_count": 0,
      "outputs": []
    },
    {
      "cell_type": "code",
      "metadata": {
        "id": "t7iWP058oqpL",
        "colab_type": "code",
        "colab": {}
      },
      "source": [
        "#compile the model\n",
        "\n",
        "model.compile(optimizer='adam', #adam for calculating Gradient descent\n",
        "              loss = 'sparse_categorical_crossentropy',# loss function for multiclass classification \n",
        "              metrics = ['accuracy'])# metric used is accuracy in case of classification(comparing probabilities between actual and predicted result like disease or no disease)"
      ],
      "execution_count": 0,
      "outputs": []
    },
    {
      "cell_type": "code",
      "metadata": {
        "id": "i7zJs83sqeew",
        "colab_type": "code",
        "colab": {
          "base_uri": "https://localhost:8080/",
          "height": 357
        },
        "outputId": "7d1fd0aa-0650-4256-89ed-ad5f91bba4c7"
      },
      "source": [
        "#Train the model\n",
        "\n",
        "r = model.fit(x_train,y_train,validation_data=(x_test,y_test),epochs = 10)"
      ],
      "execution_count": 43,
      "outputs": [
        {
          "output_type": "stream",
          "text": [
            "Epoch 1/10\n",
            "1875/1875 [==============================] - 4s 2ms/step - loss: 0.2947 - accuracy: 0.9150 - val_loss: 0.1410 - val_accuracy: 0.9599\n",
            "Epoch 2/10\n",
            "1875/1875 [==============================] - 4s 2ms/step - loss: 0.1419 - accuracy: 0.9584 - val_loss: 0.0972 - val_accuracy: 0.9716\n",
            "Epoch 3/10\n",
            "1875/1875 [==============================] - 4s 2ms/step - loss: 0.1064 - accuracy: 0.9675 - val_loss: 0.0894 - val_accuracy: 0.9729\n",
            "Epoch 4/10\n",
            "1875/1875 [==============================] - 4s 2ms/step - loss: 0.0869 - accuracy: 0.9732 - val_loss: 0.0779 - val_accuracy: 0.9755\n",
            "Epoch 5/10\n",
            "1875/1875 [==============================] - 4s 2ms/step - loss: 0.0747 - accuracy: 0.9765 - val_loss: 0.0780 - val_accuracy: 0.9768\n",
            "Epoch 6/10\n",
            "1875/1875 [==============================] - 4s 2ms/step - loss: 0.0660 - accuracy: 0.9787 - val_loss: 0.0749 - val_accuracy: 0.9776\n",
            "Epoch 7/10\n",
            "1875/1875 [==============================] - 4s 2ms/step - loss: 0.0604 - accuracy: 0.9807 - val_loss: 0.0699 - val_accuracy: 0.9785\n",
            "Epoch 8/10\n",
            "1875/1875 [==============================] - 4s 2ms/step - loss: 0.0516 - accuracy: 0.9829 - val_loss: 0.0754 - val_accuracy: 0.9767\n",
            "Epoch 9/10\n",
            "1875/1875 [==============================] - 4s 2ms/step - loss: 0.0484 - accuracy: 0.9837 - val_loss: 0.0688 - val_accuracy: 0.9785\n",
            "Epoch 10/10\n",
            "1875/1875 [==============================] - 4s 2ms/step - loss: 0.0451 - accuracy: 0.9851 - val_loss: 0.0717 - val_accuracy: 0.9791\n"
          ],
          "name": "stdout"
        }
      ]
    },
    {
      "cell_type": "code",
      "metadata": {
        "id": "db-RWYSnrNXs",
        "colab_type": "code",
        "colab": {
          "base_uri": "https://localhost:8080/",
          "height": 282
        },
        "outputId": "c19b37a9-72ad-4c70-cb03-0418a6191db9"
      },
      "source": [
        "#Visualizing loss per iteration\n",
        "plt.plot(r.history['loss'],label ='loss')\n",
        "plt.plot(r.history['val_loss'],label = 'Val_loss')\n",
        "plt.legend()"
      ],
      "execution_count": 44,
      "outputs": [
        {
          "output_type": "execute_result",
          "data": {
            "text/plain": [
              "<matplotlib.legend.Legend at 0x7f98cc019f28>"
            ]
          },
          "metadata": {
            "tags": []
          },
          "execution_count": 44
        },
        {
          "output_type": "display_data",
          "data": {
            "image/png": "[encoded data removed]",
            "text/plain": [
              "<Figure size 432x288 with 1 Axes>"
            ]
          },
          "metadata": {
            "tags": [],
            "needs_background": "light"
          }
        }
      ]
    },
    {
      "cell_type": "code",
      "metadata": {
        "id": "2HlOJQ--taCI",
        "colab_type": "code",
        "colab": {
          "base_uri": "https://localhost:8080/",
          "height": 282
        },
        "outputId": "321e08c0-e5fb-471b-9be2-ef34f19a79a8"
      },
      "source": [
        "#visualizing accuracy per iteration\n",
        "plt.plot(r.history['accuracy'],label = 'accuracy')\n",
        "plt.plot(r.history['val_accuracy'],label = 'val_accuracy')\n",
        "plt.legend()"
      ],
      "execution_count": 45,
      "outputs": [
        {
          "output_type": "execute_result",
          "data": {
            "text/plain": [
              "<matplotlib.legend.Legend at 0x7f98cc047128>"
            ]
          },
          "metadata": {
            "tags": []
          },
          "execution_count": 45
        },
        {
          "output_type": "display_data",
          "data": {
            "image/png": "[encoded data removed]",
            "text/plain": [
              "<Figure size 432x288 with 1 Axes>"
            ]
          },
          "metadata": {
            "tags": [],
            "needs_background": "light"
          }
        }
      ]
    },
    {
      "cell_type": "code",
      "metadata": {
        "id": "PhddSt5Tty6Z",
        "colab_type": "code",
        "colab": {
          "base_uri": "https://localhost:8080/",
          "height": 51
        },
        "outputId": "361e1ee2-fac5-4d80-f599-388ee9dddb24"
      },
      "source": [
        "#Evaluate the model\n",
        "print(model.evaluate(x_test,y_test))"
      ],
      "execution_count": 46,
      "outputs": [
        {
          "output_type": "stream",
          "text": [
            "313/313 [==============================] - 0s 1ms/step - loss: 0.0717 - accuracy: 0.9791\n",
            "[0.07167381048202515, 0.9790999889373779]\n"
          ],
          "name": "stdout"
        }
      ]
    },
    {
      "cell_type": "code",
      "metadata": {
        "id": "BoOjSImuw5Cu",
        "colab_type": "code",
        "colab": {}
      },
      "source": [
        ""
      ],
      "execution_count": 0,
      "outputs": []
    }
  ]
}